{
 "cells": [
  {
   "cell_type": "code",
   "execution_count": 1,
   "id": "fe9ef1b2",
   "metadata": {
    "_cell_guid": "b1076dfc-b9ad-4769-8c92-a6c4dae69d19",
    "_uuid": "8f2839f25d086af736a60e9eeb907d3b93b6e0e5",
    "execution": {
     "iopub.execute_input": "2023-12-20T18:48:58.586567Z",
     "iopub.status.busy": "2023-12-20T18:48:58.585515Z",
     "iopub.status.idle": "2023-12-20T18:49:03.127634Z",
     "shell.execute_reply": "2023-12-20T18:49:03.126219Z"
    },
    "papermill": {
     "duration": 4.559414,
     "end_time": "2023-12-20T18:49:03.130516",
     "exception": false,
     "start_time": "2023-12-20T18:48:58.571102",
     "status": "completed"
    },
    "tags": []
   },
   "outputs": [
    {
     "name": "stdout",
     "output_type": "stream",
     "text": [
      "/kaggle/input/the-boston-houseprice-data/boston.csv\n"
     ]
    }
   ],
   "source": [
    "import numpy as np # linear algebra\n",
    "import pandas as pd # data processing, CSV file I/O (e.g. pd.read_csv)\n",
    "from matplotlib import pyplot as plt\n",
    "import seaborn as sns\n",
    "import statsmodels.api as sm\n",
    "\n",
    "\n",
    "import os\n",
    "for dirname, _, filenames in os.walk('/kaggle/input'):\n",
    "    for filename in filenames:\n",
    "        print(os.path.join(dirname, filename))\n",
    "\n",
    "# You can write up to 20GB to the current directory (/kaggle/working/) that gets preserved as output when you create a version using \"Save & Run All\" \n",
    "# You can also write temporary files to /kaggle/temp/, but they won't be saved outside of the current session"
   ]
  },
  {
   "cell_type": "markdown",
   "id": "732c5225",
   "metadata": {
    "papermill": {
     "duration": 0.012214,
     "end_time": "2023-12-20T18:49:03.155005",
     "exception": false,
     "start_time": "2023-12-20T18:49:03.142791",
     "status": "completed"
    },
    "tags": []
   },
   "source": [
    "### **The main objective in here is to predict the median house price with multiple regression**"
   ]
  },
  {
   "cell_type": "code",
   "execution_count": 2,
   "id": "26db907c",
   "metadata": {
    "execution": {
     "iopub.execute_input": "2023-12-20T18:49:03.181811Z",
     "iopub.status.busy": "2023-12-20T18:49:03.180997Z",
     "iopub.status.idle": "2023-12-20T18:49:03.243807Z",
     "shell.execute_reply": "2023-12-20T18:49:03.242855Z"
    },
    "papermill": {
     "duration": 0.079216,
     "end_time": "2023-12-20T18:49:03.246377",
     "exception": false,
     "start_time": "2023-12-20T18:49:03.167161",
     "status": "completed"
    },
    "tags": []
   },
   "outputs": [
    {
     "data": {
      "text/html": [
       "<div>\n",
       "<style scoped>\n",
       "    .dataframe tbody tr th:only-of-type {\n",
       "        vertical-align: middle;\n",
       "    }\n",
       "\n",
       "    .dataframe tbody tr th {\n",
       "        vertical-align: top;\n",
       "    }\n",
       "\n",
       "    .dataframe thead th {\n",
       "        text-align: right;\n",
       "    }\n",
       "</style>\n",
       "<table border=\"1\" class=\"dataframe\">\n",
       "  <thead>\n",
       "    <tr style=\"text-align: right;\">\n",
       "      <th></th>\n",
       "      <th>CRIM</th>\n",
       "      <th>ZN</th>\n",
       "      <th>INDUS</th>\n",
       "      <th>CHAS</th>\n",
       "      <th>NOX</th>\n",
       "      <th>RM</th>\n",
       "      <th>AGE</th>\n",
       "      <th>DIS</th>\n",
       "      <th>RAD</th>\n",
       "      <th>TAX</th>\n",
       "      <th>PTRATIO</th>\n",
       "      <th>B</th>\n",
       "      <th>LSTAT</th>\n",
       "      <th>MEDV</th>\n",
       "    </tr>\n",
       "  </thead>\n",
       "  <tbody>\n",
       "    <tr>\n",
       "      <th>0</th>\n",
       "      <td>0.00632</td>\n",
       "      <td>18.0</td>\n",
       "      <td>2.31</td>\n",
       "      <td>0</td>\n",
       "      <td>0.538</td>\n",
       "      <td>6.575</td>\n",
       "      <td>65.2</td>\n",
       "      <td>4.0900</td>\n",
       "      <td>1</td>\n",
       "      <td>296.0</td>\n",
       "      <td>15.3</td>\n",
       "      <td>396.90</td>\n",
       "      <td>4.98</td>\n",
       "      <td>24.0</td>\n",
       "    </tr>\n",
       "    <tr>\n",
       "      <th>1</th>\n",
       "      <td>0.02731</td>\n",
       "      <td>0.0</td>\n",
       "      <td>7.07</td>\n",
       "      <td>0</td>\n",
       "      <td>0.469</td>\n",
       "      <td>6.421</td>\n",
       "      <td>78.9</td>\n",
       "      <td>4.9671</td>\n",
       "      <td>2</td>\n",
       "      <td>242.0</td>\n",
       "      <td>17.8</td>\n",
       "      <td>396.90</td>\n",
       "      <td>9.14</td>\n",
       "      <td>21.6</td>\n",
       "    </tr>\n",
       "    <tr>\n",
       "      <th>2</th>\n",
       "      <td>0.02729</td>\n",
       "      <td>0.0</td>\n",
       "      <td>7.07</td>\n",
       "      <td>0</td>\n",
       "      <td>0.469</td>\n",
       "      <td>7.185</td>\n",
       "      <td>61.1</td>\n",
       "      <td>4.9671</td>\n",
       "      <td>2</td>\n",
       "      <td>242.0</td>\n",
       "      <td>17.8</td>\n",
       "      <td>392.83</td>\n",
       "      <td>4.03</td>\n",
       "      <td>34.7</td>\n",
       "    </tr>\n",
       "    <tr>\n",
       "      <th>3</th>\n",
       "      <td>0.03237</td>\n",
       "      <td>0.0</td>\n",
       "      <td>2.18</td>\n",
       "      <td>0</td>\n",
       "      <td>0.458</td>\n",
       "      <td>6.998</td>\n",
       "      <td>45.8</td>\n",
       "      <td>6.0622</td>\n",
       "      <td>3</td>\n",
       "      <td>222.0</td>\n",
       "      <td>18.7</td>\n",
       "      <td>394.63</td>\n",
       "      <td>2.94</td>\n",
       "      <td>33.4</td>\n",
       "    </tr>\n",
       "    <tr>\n",
       "      <th>4</th>\n",
       "      <td>0.06905</td>\n",
       "      <td>0.0</td>\n",
       "      <td>2.18</td>\n",
       "      <td>0</td>\n",
       "      <td>0.458</td>\n",
       "      <td>7.147</td>\n",
       "      <td>54.2</td>\n",
       "      <td>6.0622</td>\n",
       "      <td>3</td>\n",
       "      <td>222.0</td>\n",
       "      <td>18.7</td>\n",
       "      <td>396.90</td>\n",
       "      <td>5.33</td>\n",
       "      <td>36.2</td>\n",
       "    </tr>\n",
       "  </tbody>\n",
       "</table>\n",
       "</div>"
      ],
      "text/plain": [
       "      CRIM    ZN  INDUS  CHAS    NOX     RM   AGE     DIS  RAD    TAX  \\\n",
       "0  0.00632  18.0   2.31     0  0.538  6.575  65.2  4.0900    1  296.0   \n",
       "1  0.02731   0.0   7.07     0  0.469  6.421  78.9  4.9671    2  242.0   \n",
       "2  0.02729   0.0   7.07     0  0.469  7.185  61.1  4.9671    2  242.0   \n",
       "3  0.03237   0.0   2.18     0  0.458  6.998  45.8  6.0622    3  222.0   \n",
       "4  0.06905   0.0   2.18     0  0.458  7.147  54.2  6.0622    3  222.0   \n",
       "\n",
       "   PTRATIO       B  LSTAT  MEDV  \n",
       "0     15.3  396.90   4.98  24.0  \n",
       "1     17.8  396.90   9.14  21.6  \n",
       "2     17.8  392.83   4.03  34.7  \n",
       "3     18.7  394.63   2.94  33.4  \n",
       "4     18.7  396.90   5.33  36.2  "
      ]
     },
     "execution_count": 2,
     "metadata": {},
     "output_type": "execute_result"
    }
   ],
   "source": [
    "data = pd.read_csv('/kaggle/input/the-boston-houseprice-data/boston.csv')\n",
    "data.head()"
   ]
  },
  {
   "cell_type": "code",
   "execution_count": 3,
   "id": "84f7174a",
   "metadata": {
    "execution": {
     "iopub.execute_input": "2023-12-20T18:49:03.274131Z",
     "iopub.status.busy": "2023-12-20T18:49:03.273694Z",
     "iopub.status.idle": "2023-12-20T18:49:03.280549Z",
     "shell.execute_reply": "2023-12-20T18:49:03.279426Z"
    },
    "papermill": {
     "duration": 0.023636,
     "end_time": "2023-12-20T18:49:03.282903",
     "exception": false,
     "start_time": "2023-12-20T18:49:03.259267",
     "status": "completed"
    },
    "tags": []
   },
   "outputs": [
    {
     "data": {
      "text/plain": [
       "(506, 14)"
      ]
     },
     "execution_count": 3,
     "metadata": {},
     "output_type": "execute_result"
    }
   ],
   "source": [
    "data.shape"
   ]
  },
  {
   "cell_type": "code",
   "execution_count": 4,
   "id": "d79a4474",
   "metadata": {
    "execution": {
     "iopub.execute_input": "2023-12-20T18:49:03.310711Z",
     "iopub.status.busy": "2023-12-20T18:49:03.310005Z",
     "iopub.status.idle": "2023-12-20T18:49:03.342720Z",
     "shell.execute_reply": "2023-12-20T18:49:03.340996Z"
    },
    "papermill": {
     "duration": 0.049715,
     "end_time": "2023-12-20T18:49:03.345306",
     "exception": false,
     "start_time": "2023-12-20T18:49:03.295591",
     "status": "completed"
    },
    "tags": []
   },
   "outputs": [
    {
     "name": "stdout",
     "output_type": "stream",
     "text": [
      "<class 'pandas.core.frame.DataFrame'>\n",
      "RangeIndex: 506 entries, 0 to 505\n",
      "Data columns (total 14 columns):\n",
      " #   Column   Non-Null Count  Dtype  \n",
      "---  ------   --------------  -----  \n",
      " 0   CRIM     506 non-null    float64\n",
      " 1   ZN       506 non-null    float64\n",
      " 2   INDUS    506 non-null    float64\n",
      " 3   CHAS     506 non-null    int64  \n",
      " 4   NOX      506 non-null    float64\n",
      " 5   RM       506 non-null    float64\n",
      " 6   AGE      506 non-null    float64\n",
      " 7   DIS      506 non-null    float64\n",
      " 8   RAD      506 non-null    int64  \n",
      " 9   TAX      506 non-null    float64\n",
      " 10  PTRATIO  506 non-null    float64\n",
      " 11  B        506 non-null    float64\n",
      " 12  LSTAT    506 non-null    float64\n",
      " 13  MEDV     506 non-null    float64\n",
      "dtypes: float64(12), int64(2)\n",
      "memory usage: 55.5 KB\n"
     ]
    }
   ],
   "source": [
    "data.info()"
   ]
  },
  {
   "cell_type": "code",
   "execution_count": 5,
   "id": "9dbb49ad",
   "metadata": {
    "execution": {
     "iopub.execute_input": "2023-12-20T18:49:03.372716Z",
     "iopub.status.busy": "2023-12-20T18:49:03.372311Z",
     "iopub.status.idle": "2023-12-20T18:49:03.381671Z",
     "shell.execute_reply": "2023-12-20T18:49:03.380249Z"
    },
    "papermill": {
     "duration": 0.026433,
     "end_time": "2023-12-20T18:49:03.384559",
     "exception": false,
     "start_time": "2023-12-20T18:49:03.358126",
     "status": "completed"
    },
    "tags": []
   },
   "outputs": [
    {
     "data": {
      "text/plain": [
       "CRIM       0\n",
       "ZN         0\n",
       "INDUS      0\n",
       "CHAS       0\n",
       "NOX        0\n",
       "RM         0\n",
       "AGE        0\n",
       "DIS        0\n",
       "RAD        0\n",
       "TAX        0\n",
       "PTRATIO    0\n",
       "B          0\n",
       "LSTAT      0\n",
       "MEDV       0\n",
       "dtype: int64"
      ]
     },
     "execution_count": 5,
     "metadata": {},
     "output_type": "execute_result"
    }
   ],
   "source": [
    "data.isna().sum()"
   ]
  },
  {
   "cell_type": "code",
   "execution_count": 6,
   "id": "8003d3bb",
   "metadata": {
    "execution": {
     "iopub.execute_input": "2023-12-20T18:49:03.412893Z",
     "iopub.status.busy": "2023-12-20T18:49:03.412499Z",
     "iopub.status.idle": "2023-12-20T18:49:03.471230Z",
     "shell.execute_reply": "2023-12-20T18:49:03.470027Z"
    },
    "papermill": {
     "duration": 0.075853,
     "end_time": "2023-12-20T18:49:03.473965",
     "exception": false,
     "start_time": "2023-12-20T18:49:03.398112",
     "status": "completed"
    },
    "tags": []
   },
   "outputs": [
    {
     "data": {
      "text/html": [
       "<div>\n",
       "<style scoped>\n",
       "    .dataframe tbody tr th:only-of-type {\n",
       "        vertical-align: middle;\n",
       "    }\n",
       "\n",
       "    .dataframe tbody tr th {\n",
       "        vertical-align: top;\n",
       "    }\n",
       "\n",
       "    .dataframe thead th {\n",
       "        text-align: right;\n",
       "    }\n",
       "</style>\n",
       "<table border=\"1\" class=\"dataframe\">\n",
       "  <thead>\n",
       "    <tr style=\"text-align: right;\">\n",
       "      <th></th>\n",
       "      <th>CRIM</th>\n",
       "      <th>ZN</th>\n",
       "      <th>INDUS</th>\n",
       "      <th>CHAS</th>\n",
       "      <th>NOX</th>\n",
       "      <th>RM</th>\n",
       "      <th>AGE</th>\n",
       "      <th>DIS</th>\n",
       "      <th>RAD</th>\n",
       "      <th>TAX</th>\n",
       "      <th>PTRATIO</th>\n",
       "      <th>B</th>\n",
       "      <th>LSTAT</th>\n",
       "      <th>MEDV</th>\n",
       "    </tr>\n",
       "  </thead>\n",
       "  <tbody>\n",
       "    <tr>\n",
       "      <th>count</th>\n",
       "      <td>506.000000</td>\n",
       "      <td>506.000000</td>\n",
       "      <td>506.000000</td>\n",
       "      <td>506.000000</td>\n",
       "      <td>506.000000</td>\n",
       "      <td>506.000000</td>\n",
       "      <td>506.000000</td>\n",
       "      <td>506.000000</td>\n",
       "      <td>506.000000</td>\n",
       "      <td>506.000000</td>\n",
       "      <td>506.000000</td>\n",
       "      <td>506.000000</td>\n",
       "      <td>506.000000</td>\n",
       "      <td>506.000000</td>\n",
       "    </tr>\n",
       "    <tr>\n",
       "      <th>mean</th>\n",
       "      <td>3.613524</td>\n",
       "      <td>11.363636</td>\n",
       "      <td>11.136779</td>\n",
       "      <td>0.069170</td>\n",
       "      <td>0.554695</td>\n",
       "      <td>6.284634</td>\n",
       "      <td>68.574901</td>\n",
       "      <td>3.795043</td>\n",
       "      <td>9.549407</td>\n",
       "      <td>408.237154</td>\n",
       "      <td>18.455534</td>\n",
       "      <td>356.674032</td>\n",
       "      <td>12.653063</td>\n",
       "      <td>22.532806</td>\n",
       "    </tr>\n",
       "    <tr>\n",
       "      <th>std</th>\n",
       "      <td>8.601545</td>\n",
       "      <td>23.322453</td>\n",
       "      <td>6.860353</td>\n",
       "      <td>0.253994</td>\n",
       "      <td>0.115878</td>\n",
       "      <td>0.702617</td>\n",
       "      <td>28.148861</td>\n",
       "      <td>2.105710</td>\n",
       "      <td>8.707259</td>\n",
       "      <td>168.537116</td>\n",
       "      <td>2.164946</td>\n",
       "      <td>91.294864</td>\n",
       "      <td>7.141062</td>\n",
       "      <td>9.197104</td>\n",
       "    </tr>\n",
       "    <tr>\n",
       "      <th>min</th>\n",
       "      <td>0.006320</td>\n",
       "      <td>0.000000</td>\n",
       "      <td>0.460000</td>\n",
       "      <td>0.000000</td>\n",
       "      <td>0.385000</td>\n",
       "      <td>3.561000</td>\n",
       "      <td>2.900000</td>\n",
       "      <td>1.129600</td>\n",
       "      <td>1.000000</td>\n",
       "      <td>187.000000</td>\n",
       "      <td>12.600000</td>\n",
       "      <td>0.320000</td>\n",
       "      <td>1.730000</td>\n",
       "      <td>5.000000</td>\n",
       "    </tr>\n",
       "    <tr>\n",
       "      <th>25%</th>\n",
       "      <td>0.082045</td>\n",
       "      <td>0.000000</td>\n",
       "      <td>5.190000</td>\n",
       "      <td>0.000000</td>\n",
       "      <td>0.449000</td>\n",
       "      <td>5.885500</td>\n",
       "      <td>45.025000</td>\n",
       "      <td>2.100175</td>\n",
       "      <td>4.000000</td>\n",
       "      <td>279.000000</td>\n",
       "      <td>17.400000</td>\n",
       "      <td>375.377500</td>\n",
       "      <td>6.950000</td>\n",
       "      <td>17.025000</td>\n",
       "    </tr>\n",
       "    <tr>\n",
       "      <th>50%</th>\n",
       "      <td>0.256510</td>\n",
       "      <td>0.000000</td>\n",
       "      <td>9.690000</td>\n",
       "      <td>0.000000</td>\n",
       "      <td>0.538000</td>\n",
       "      <td>6.208500</td>\n",
       "      <td>77.500000</td>\n",
       "      <td>3.207450</td>\n",
       "      <td>5.000000</td>\n",
       "      <td>330.000000</td>\n",
       "      <td>19.050000</td>\n",
       "      <td>391.440000</td>\n",
       "      <td>11.360000</td>\n",
       "      <td>21.200000</td>\n",
       "    </tr>\n",
       "    <tr>\n",
       "      <th>75%</th>\n",
       "      <td>3.677083</td>\n",
       "      <td>12.500000</td>\n",
       "      <td>18.100000</td>\n",
       "      <td>0.000000</td>\n",
       "      <td>0.624000</td>\n",
       "      <td>6.623500</td>\n",
       "      <td>94.075000</td>\n",
       "      <td>5.188425</td>\n",
       "      <td>24.000000</td>\n",
       "      <td>666.000000</td>\n",
       "      <td>20.200000</td>\n",
       "      <td>396.225000</td>\n",
       "      <td>16.955000</td>\n",
       "      <td>25.000000</td>\n",
       "    </tr>\n",
       "    <tr>\n",
       "      <th>max</th>\n",
       "      <td>88.976200</td>\n",
       "      <td>100.000000</td>\n",
       "      <td>27.740000</td>\n",
       "      <td>1.000000</td>\n",
       "      <td>0.871000</td>\n",
       "      <td>8.780000</td>\n",
       "      <td>100.000000</td>\n",
       "      <td>12.126500</td>\n",
       "      <td>24.000000</td>\n",
       "      <td>711.000000</td>\n",
       "      <td>22.000000</td>\n",
       "      <td>396.900000</td>\n",
       "      <td>37.970000</td>\n",
       "      <td>50.000000</td>\n",
       "    </tr>\n",
       "  </tbody>\n",
       "</table>\n",
       "</div>"
      ],
      "text/plain": [
       "             CRIM          ZN       INDUS        CHAS         NOX          RM  \\\n",
       "count  506.000000  506.000000  506.000000  506.000000  506.000000  506.000000   \n",
       "mean     3.613524   11.363636   11.136779    0.069170    0.554695    6.284634   \n",
       "std      8.601545   23.322453    6.860353    0.253994    0.115878    0.702617   \n",
       "min      0.006320    0.000000    0.460000    0.000000    0.385000    3.561000   \n",
       "25%      0.082045    0.000000    5.190000    0.000000    0.449000    5.885500   \n",
       "50%      0.256510    0.000000    9.690000    0.000000    0.538000    6.208500   \n",
       "75%      3.677083   12.500000   18.100000    0.000000    0.624000    6.623500   \n",
       "max     88.976200  100.000000   27.740000    1.000000    0.871000    8.780000   \n",
       "\n",
       "              AGE         DIS         RAD         TAX     PTRATIO           B  \\\n",
       "count  506.000000  506.000000  506.000000  506.000000  506.000000  506.000000   \n",
       "mean    68.574901    3.795043    9.549407  408.237154   18.455534  356.674032   \n",
       "std     28.148861    2.105710    8.707259  168.537116    2.164946   91.294864   \n",
       "min      2.900000    1.129600    1.000000  187.000000   12.600000    0.320000   \n",
       "25%     45.025000    2.100175    4.000000  279.000000   17.400000  375.377500   \n",
       "50%     77.500000    3.207450    5.000000  330.000000   19.050000  391.440000   \n",
       "75%     94.075000    5.188425   24.000000  666.000000   20.200000  396.225000   \n",
       "max    100.000000   12.126500   24.000000  711.000000   22.000000  396.900000   \n",
       "\n",
       "            LSTAT        MEDV  \n",
       "count  506.000000  506.000000  \n",
       "mean    12.653063   22.532806  \n",
       "std      7.141062    9.197104  \n",
       "min      1.730000    5.000000  \n",
       "25%      6.950000   17.025000  \n",
       "50%     11.360000   21.200000  \n",
       "75%     16.955000   25.000000  \n",
       "max     37.970000   50.000000  "
      ]
     },
     "execution_count": 6,
     "metadata": {},
     "output_type": "execute_result"
    }
   ],
   "source": [
    "data.describe()"
   ]
  },
  {
   "cell_type": "code",
   "execution_count": 7,
   "id": "3d1f5dfd",
   "metadata": {
    "execution": {
     "iopub.execute_input": "2023-12-20T18:49:03.503545Z",
     "iopub.status.busy": "2023-12-20T18:49:03.502600Z",
     "iopub.status.idle": "2023-12-20T18:49:04.712297Z",
     "shell.execute_reply": "2023-12-20T18:49:04.711242Z"
    },
    "papermill": {
     "duration": 1.228447,
     "end_time": "2023-12-20T18:49:04.715891",
     "exception": false,
     "start_time": "2023-12-20T18:49:03.487444",
     "status": "completed"
    },
    "tags": []
   },
   "outputs": [
    {
     "data": {
      "text/plain": [
       "Text(0.5, 1.0, 'Correlation Heatmap')"
      ]
     },
     "execution_count": 7,
     "metadata": {},
     "output_type": "execute_result"
    },
    {
     "data": {
      "image/png": "[encoded data removed]",
      "text/plain": [
       "<Figure size 1200x1200 with 2 Axes>"
      ]
     },
     "metadata": {},
     "output_type": "display_data"
    }
   ],
   "source": [
    "plt.figure(figsize = (12, 12))\n",
    "heatmap = sns.heatmap(data.corr(), vmin = -1, vmax = 1, annot = True)\n",
    "heatmap.set_title('Correlation Heatmap')"
   ]
  },
  {
   "cell_type": "markdown",
   "id": "a5be3418",
   "metadata": {
    "papermill": {
     "duration": 0.016538,
     "end_time": "2023-12-20T18:49:04.749370",
     "exception": false,
     "start_time": "2023-12-20T18:49:04.732832",
     "status": "completed"
    },
    "tags": []
   },
   "source": [
    "# Regression with Sklearn"
   ]
  },
  {
   "cell_type": "code",
   "execution_count": 8,
   "id": "da2f9971",
   "metadata": {
    "execution": {
     "iopub.execute_input": "2023-12-20T18:49:04.785293Z",
     "iopub.status.busy": "2023-12-20T18:49:04.784497Z",
     "iopub.status.idle": "2023-12-20T18:49:05.122096Z",
     "shell.execute_reply": "2023-12-20T18:49:05.120964Z"
    },
    "papermill": {
     "duration": 0.358999,
     "end_time": "2023-12-20T18:49:05.125141",
     "exception": false,
     "start_time": "2023-12-20T18:49:04.766142",
     "status": "completed"
    },
    "tags": []
   },
   "outputs": [],
   "source": [
    "from sklearn.model_selection import train_test_split\n",
    "from sklearn.preprocessing import StandardScaler\n",
    "from sklearn.linear_model import LinearRegression\n",
    "from sklearn.metrics import mean_squared_error,r2_score"
   ]
  },
  {
   "cell_type": "code",
   "execution_count": 9,
   "id": "c96e8e7b",
   "metadata": {
    "execution": {
     "iopub.execute_input": "2023-12-20T18:49:05.160745Z",
     "iopub.status.busy": "2023-12-20T18:49:05.159432Z",
     "iopub.status.idle": "2023-12-20T18:49:05.181712Z",
     "shell.execute_reply": "2023-12-20T18:49:05.180321Z"
    },
    "papermill": {
     "duration": 0.042576,
     "end_time": "2023-12-20T18:49:05.184370",
     "exception": false,
     "start_time": "2023-12-20T18:49:05.141794",
     "status": "completed"
    },
    "tags": []
   },
   "outputs": [],
   "source": [
    "X = data.drop('MEDV', axis=1)\n",
    "y = data['MEDV']\n",
    "X_train, X_test, y_train, y_test = train_test_split(X, y, test_size=0.3, random_state=42)\n",
    "scaler = StandardScaler()\n",
    "X_train_scaled = scaler.fit_transform(X_train)\n",
    "X_test_scaled = scaler.transform(X_test)"
   ]
  },
  {
   "cell_type": "code",
   "execution_count": 10,
   "id": "30416196",
   "metadata": {
    "execution": {
     "iopub.execute_input": "2023-12-20T18:49:05.221187Z",
     "iopub.status.busy": "2023-12-20T18:49:05.220145Z",
     "iopub.status.idle": "2023-12-20T18:49:05.250810Z",
     "shell.execute_reply": "2023-12-20T18:49:05.249418Z"
    },
    "papermill": {
     "duration": 0.051264,
     "end_time": "2023-12-20T18:49:05.253247",
     "exception": false,
     "start_time": "2023-12-20T18:49:05.201983",
     "status": "completed"
    },
    "tags": []
   },
   "outputs": [
    {
     "name": "stdout",
     "output_type": "stream",
     "text": [
      "MSE: 21.5174\n"
     ]
    }
   ],
   "source": [
    "model = LinearRegression()\n",
    "model.fit(X_train_scaled, y_train)\n",
    "\n",
    "predictions = model.predict(X_test_scaled)\n",
    "mse = mean_squared_error(y_test, predictions)\n",
    "print(f\"MSE: {mse:.4f}\")"
   ]
  },
  {
   "cell_type": "code",
   "execution_count": 11,
   "id": "15abbde0",
   "metadata": {
    "execution": {
     "iopub.execute_input": "2023-12-20T18:49:05.288681Z",
     "iopub.status.busy": "2023-12-20T18:49:05.287922Z",
     "iopub.status.idle": "2023-12-20T18:49:05.295648Z",
     "shell.execute_reply": "2023-12-20T18:49:05.294141Z"
    },
    "papermill": {
     "duration": 0.028664,
     "end_time": "2023-12-20T18:49:05.298152",
     "exception": false,
     "start_time": "2023-12-20T18:49:05.269488",
     "status": "completed"
    },
    "tags": []
   },
   "outputs": [
    {
     "name": "stdout",
     "output_type": "stream",
     "text": [
      "R-squared: 0.7112\n"
     ]
    }
   ],
   "source": [
    "r2 = r2_score(y_test, predictions)\n",
    "print(f\"R-squared: {r2:.4f}\")"
   ]
  },
  {
   "cell_type": "code",
   "execution_count": 12,
   "id": "50b8dcfb",
   "metadata": {
    "execution": {
     "iopub.execute_input": "2023-12-20T18:49:05.335559Z",
     "iopub.status.busy": "2023-12-20T18:49:05.334462Z",
     "iopub.status.idle": "2023-12-20T18:49:05.792746Z",
     "shell.execute_reply": "2023-12-20T18:49:05.791502Z"
    },
    "papermill": {
     "duration": 0.480435,
     "end_time": "2023-12-20T18:49:05.795615",
     "exception": false,
     "start_time": "2023-12-20T18:49:05.315180",
     "status": "completed"
    },
    "tags": []
   },
   "outputs": [
    {
     "data": {
      "image/png": "[encoded data removed]",
      "text/plain": [
       "<Figure size 640x480 with 1 Axes>"
      ]
     },
     "metadata": {},
     "output_type": "display_data"
    }
   ],
   "source": [
    "plt.scatter(y_test, predictions, label='Prediction')\n",
    "plt.plot([min(y_test), max(y_test)], [min(y_test), max(y_test)], linestyle='--', color='red', label='Perfect Prediction')\n",
    "plt.xlabel('Actual Values')\n",
    "plt.ylabel('Predicted Values')\n",
    "plt.title('Predicted x Actual Values')\n",
    "plt.legend()\n",
    "plt.show()"
   ]
  },
  {
   "cell_type": "code",
   "execution_count": 13,
   "id": "7aa70914",
   "metadata": {
    "execution": {
     "iopub.execute_input": "2023-12-20T18:49:05.834120Z",
     "iopub.status.busy": "2023-12-20T18:49:05.833441Z",
     "iopub.status.idle": "2023-12-20T18:49:05.845356Z",
     "shell.execute_reply": "2023-12-20T18:49:05.844175Z"
    },
    "papermill": {
     "duration": 0.035257,
     "end_time": "2023-12-20T18:49:05.847824",
     "exception": false,
     "start_time": "2023-12-20T18:49:05.812567",
     "status": "completed"
    },
    "tags": []
   },
   "outputs": [
    {
     "data": {
      "text/html": [
       "<div>\n",
       "<style scoped>\n",
       "    .dataframe tbody tr th:only-of-type {\n",
       "        vertical-align: middle;\n",
       "    }\n",
       "\n",
       "    .dataframe tbody tr th {\n",
       "        vertical-align: top;\n",
       "    }\n",
       "\n",
       "    .dataframe thead th {\n",
       "        text-align: right;\n",
       "    }\n",
       "</style>\n",
       "<table border=\"1\" class=\"dataframe\">\n",
       "  <thead>\n",
       "    <tr style=\"text-align: right;\">\n",
       "      <th></th>\n",
       "      <th>Values</th>\n",
       "      <th>Predictions</th>\n",
       "    </tr>\n",
       "  </thead>\n",
       "  <tbody>\n",
       "    <tr>\n",
       "      <th>0</th>\n",
       "      <td>23.6</td>\n",
       "      <td>28.648960</td>\n",
       "    </tr>\n",
       "    <tr>\n",
       "      <th>1</th>\n",
       "      <td>32.4</td>\n",
       "      <td>36.495014</td>\n",
       "    </tr>\n",
       "    <tr>\n",
       "      <th>2</th>\n",
       "      <td>13.6</td>\n",
       "      <td>15.411193</td>\n",
       "    </tr>\n",
       "    <tr>\n",
       "      <th>3</th>\n",
       "      <td>22.8</td>\n",
       "      <td>25.403213</td>\n",
       "    </tr>\n",
       "    <tr>\n",
       "      <th>4</th>\n",
       "      <td>16.1</td>\n",
       "      <td>18.855280</td>\n",
       "    </tr>\n",
       "  </tbody>\n",
       "</table>\n",
       "</div>"
      ],
      "text/plain": [
       "   Values  Predictions\n",
       "0    23.6    28.648960\n",
       "1    32.4    36.495014\n",
       "2    13.6    15.411193\n",
       "3    22.8    25.403213\n",
       "4    16.1    18.855280"
      ]
     },
     "execution_count": 13,
     "metadata": {},
     "output_type": "execute_result"
    }
   ],
   "source": [
    "final = pd.DataFrame({'Values': y_test.values,'Predictions': predictions})\n",
    "final.head()"
   ]
  },
  {
   "cell_type": "markdown",
   "id": "7d2be501",
   "metadata": {
    "papermill": {
     "duration": 0.017687,
     "end_time": "2023-12-20T18:49:05.883093",
     "exception": false,
     "start_time": "2023-12-20T18:49:05.865406",
     "status": "completed"
    },
    "tags": []
   },
   "source": [
    "#### The predictions with Scikit shows increasing values everytime, an it makes sense if we are analysing house prices."
   ]
  },
  {
   "cell_type": "markdown",
   "id": "42b94f40",
   "metadata": {
    "papermill": {
     "duration": 0.017271,
     "end_time": "2023-12-20T18:49:05.918756",
     "exception": false,
     "start_time": "2023-12-20T18:49:05.901485",
     "status": "completed"
    },
    "tags": []
   },
   "source": [
    "# Regression with Statsmodels"
   ]
  },
  {
   "cell_type": "code",
   "execution_count": 14,
   "id": "d26e8609",
   "metadata": {
    "execution": {
     "iopub.execute_input": "2023-12-20T18:49:05.956932Z",
     "iopub.status.busy": "2023-12-20T18:49:05.955563Z",
     "iopub.status.idle": "2023-12-20T18:49:05.984863Z",
     "shell.execute_reply": "2023-12-20T18:49:05.983317Z"
    },
    "papermill": {
     "duration": 0.051808,
     "end_time": "2023-12-20T18:49:05.987846",
     "exception": false,
     "start_time": "2023-12-20T18:49:05.936038",
     "status": "completed"
    },
    "tags": []
   },
   "outputs": [
    {
     "name": "stdout",
     "output_type": "stream",
     "text": [
      "                                 OLS Regression Results                                \n",
      "=======================================================================================\n",
      "Dep. Variable:                   MEDV   R-squared (uncentered):                   0.959\n",
      "Model:                            OLS   Adj. R-squared (uncentered):              0.958\n",
      "Method:                 Least Squares   F-statistic:                              891.3\n",
      "Date:                Wed, 20 Dec 2023   Prob (F-statistic):                        0.00\n",
      "Time:                        18:49:05   Log-Likelihood:                         -1523.8\n",
      "No. Observations:                 506   AIC:                                      3074.\n",
      "Df Residuals:                     493   BIC:                                      3128.\n",
      "Df Model:                          13                                                  \n",
      "Covariance Type:            nonrobust                                                  \n",
      "==============================================================================\n",
      "                 coef    std err          t      P>|t|      [0.025      0.975]\n",
      "------------------------------------------------------------------------------\n",
      "CRIM          -0.0929      0.034     -2.699      0.007      -0.161      -0.025\n",
      "ZN             0.0487      0.014      3.382      0.001       0.020       0.077\n",
      "INDUS         -0.0041      0.064     -0.063      0.950      -0.131       0.123\n",
      "CHAS           2.8540      0.904      3.157      0.002       1.078       4.630\n",
      "NOX           -2.8684      3.359     -0.854      0.394      -9.468       3.731\n",
      "RM             5.9281      0.309     19.178      0.000       5.321       6.535\n",
      "AGE           -0.0073      0.014     -0.526      0.599      -0.034       0.020\n",
      "DIS           -0.9685      0.196     -4.951      0.000      -1.353      -0.584\n",
      "RAD            0.1712      0.067      2.564      0.011       0.040       0.302\n",
      "TAX           -0.0094      0.004     -2.395      0.017      -0.017      -0.002\n",
      "PTRATIO       -0.3922      0.110     -3.570      0.000      -0.608      -0.176\n",
      "B              0.0149      0.003      5.528      0.000       0.010       0.020\n",
      "LSTAT         -0.4163      0.051     -8.197      0.000      -0.516      -0.317\n",
      "==============================================================================\n",
      "Omnibus:                      204.082   Durbin-Watson:                   0.999\n",
      "Prob(Omnibus):                  0.000   Jarque-Bera (JB):             1374.225\n",
      "Skew:                           1.609   Prob(JB):                    3.90e-299\n",
      "Kurtosis:                      10.404   Cond. No.                     8.50e+03\n",
      "==============================================================================\n",
      "\n",
      "Notes:\n",
      "[1] R² is computed without centering (uncentered) since the model does not contain a constant.\n",
      "[2] Standard Errors assume that the covariance matrix of the errors is correctly specified.\n",
      "[3] The condition number is large, 8.5e+03. This might indicate that there are\n",
      "strong multicollinearity or other numerical problems.\n"
     ]
    }
   ],
   "source": [
    "regression = sm.OLS(y, X).fit()\n",
    "print(regression.summary())"
   ]
  },
  {
   "cell_type": "markdown",
   "id": "86e95d45",
   "metadata": {
    "papermill": {
     "duration": 0.017733,
     "end_time": "2023-12-20T18:49:06.023740",
     "exception": false,
     "start_time": "2023-12-20T18:49:06.006007",
     "status": "completed"
    },
    "tags": []
   },
   "source": [
    "#### The R Squared is close to 1, but the F-stat and AIC/BIC are too high, so maybe this model is not good for Statsmodels. We can also see in the coef column that the variables that have the most influence in the price predictions are the number of rooms (RM), Charles River Prediction (CHAS) and the Index of accessibility to radial highways (RAD)."
   ]
  },
  {
   "cell_type": "code",
   "execution_count": 15,
   "id": "064f823f",
   "metadata": {
    "execution": {
     "iopub.execute_input": "2023-12-20T18:49:06.061732Z",
     "iopub.status.busy": "2023-12-20T18:49:06.060706Z",
     "iopub.status.idle": "2023-12-20T18:49:06.072154Z",
     "shell.execute_reply": "2023-12-20T18:49:06.070890Z"
    },
    "papermill": {
     "duration": 0.033595,
     "end_time": "2023-12-20T18:49:06.075101",
     "exception": false,
     "start_time": "2023-12-20T18:49:06.041506",
     "status": "completed"
    },
    "tags": []
   },
   "outputs": [
    {
     "data": {
      "text/plain": [
       "0      -5.098264\n",
       "1      -2.902275\n",
       "2       3.472574\n",
       "3       3.692896\n",
       "4       6.635204\n",
       "         ...    \n",
       "501    -3.270701\n",
       "502    -2.716942\n",
       "503    -5.934355\n",
       "504    -6.147705\n",
       "505   -11.142319\n",
       "Length: 506, dtype: float64"
      ]
     },
     "execution_count": 15,
     "metadata": {},
     "output_type": "execute_result"
    }
   ],
   "source": [
    "residual = regression.resid\n",
    "residual"
   ]
  },
  {
   "cell_type": "code",
   "execution_count": 16,
   "id": "6c54c7c8",
   "metadata": {
    "execution": {
     "iopub.execute_input": "2023-12-20T18:49:06.112713Z",
     "iopub.status.busy": "2023-12-20T18:49:06.112289Z",
     "iopub.status.idle": "2023-12-20T18:49:06.121716Z",
     "shell.execute_reply": "2023-12-20T18:49:06.120318Z"
    },
    "papermill": {
     "duration": 0.031626,
     "end_time": "2023-12-20T18:49:06.124742",
     "exception": false,
     "start_time": "2023-12-20T18:49:06.093116",
     "status": "completed"
    },
    "tags": []
   },
   "outputs": [
    {
     "data": {
      "text/plain": [
       "1.3768426465823974e-19"
      ]
     },
     "execution_count": 16,
     "metadata": {},
     "output_type": "execute_result"
    }
   ],
   "source": [
    "import scipy.stats as stats\n",
    "estatistica, p = stats.shapiro(residual)\n",
    "p"
   ]
  },
  {
   "cell_type": "code",
   "execution_count": 17,
   "id": "04d99b2f",
   "metadata": {
    "execution": {
     "iopub.execute_input": "2023-12-20T18:49:06.229679Z",
     "iopub.status.busy": "2023-12-20T18:49:06.229281Z",
     "iopub.status.idle": "2023-12-20T18:49:06.539312Z",
     "shell.execute_reply": "2023-12-20T18:49:06.538053Z"
    },
    "papermill": {
     "duration": 0.332358,
     "end_time": "2023-12-20T18:49:06.541815",
     "exception": false,
     "start_time": "2023-12-20T18:49:06.209457",
     "status": "completed"
    },
    "tags": []
   },
   "outputs": [
    {
     "data": {
      "image/png": "[encoded data removed]",
      "text/plain": [
       "<Figure size 640x480 with 1 Axes>"
      ]
     },
     "metadata": {},
     "output_type": "display_data"
    }
   ],
   "source": [
    "stats.probplot(residual, dist='norm', plot=plt)\n",
    "plt.show()"
   ]
  },
  {
   "cell_type": "markdown",
   "id": "a22245b9",
   "metadata": {
    "papermill": {
     "duration": 0.018843,
     "end_time": "2023-12-20T18:49:06.579314",
     "exception": false,
     "start_time": "2023-12-20T18:49:06.560471",
     "status": "completed"
    },
    "tags": []
   },
   "source": [
    "#### As we can see, probably Statsmodels is not good for this kind of multiple regression, as the residual are too far from a normal distribution. We will now try to make a model with an intercept to see what happens."
   ]
  },
  {
   "cell_type": "code",
   "execution_count": 18,
   "id": "e81b5369",
   "metadata": {
    "execution": {
     "iopub.execute_input": "2023-12-20T18:49:06.618386Z",
     "iopub.status.busy": "2023-12-20T18:49:06.617933Z",
     "iopub.status.idle": "2023-12-20T18:49:06.654600Z",
     "shell.execute_reply": "2023-12-20T18:49:06.653138Z"
    },
    "papermill": {
     "duration": 0.059473,
     "end_time": "2023-12-20T18:49:06.657378",
     "exception": false,
     "start_time": "2023-12-20T18:49:06.597905",
     "status": "completed"
    },
    "tags": []
   },
   "outputs": [
    {
     "name": "stdout",
     "output_type": "stream",
     "text": [
      "                            OLS Regression Results                            \n",
      "==============================================================================\n",
      "Dep. Variable:                   MEDV   R-squared:                       0.741\n",
      "Model:                            OLS   Adj. R-squared:                  0.734\n",
      "Method:                 Least Squares   F-statistic:                     108.1\n",
      "Date:                Wed, 20 Dec 2023   Prob (F-statistic):          6.72e-135\n",
      "Time:                        18:49:06   Log-Likelihood:                -1498.8\n",
      "No. Observations:                 506   AIC:                             3026.\n",
      "Df Residuals:                     492   BIC:                             3085.\n",
      "Df Model:                          13                                         \n",
      "Covariance Type:            nonrobust                                         \n",
      "==============================================================================\n",
      "                 coef    std err          t      P>|t|      [0.025      0.975]\n",
      "------------------------------------------------------------------------------\n",
      "const         36.4595      5.103      7.144      0.000      26.432      46.487\n",
      "CRIM          -0.1080      0.033     -3.287      0.001      -0.173      -0.043\n",
      "ZN             0.0464      0.014      3.382      0.001       0.019       0.073\n",
      "INDUS          0.0206      0.061      0.334      0.738      -0.100       0.141\n",
      "CHAS           2.6867      0.862      3.118      0.002       0.994       4.380\n",
      "NOX          -17.7666      3.820     -4.651      0.000     -25.272     -10.262\n",
      "RM             3.8099      0.418      9.116      0.000       2.989       4.631\n",
      "AGE            0.0007      0.013      0.052      0.958      -0.025       0.027\n",
      "DIS           -1.4756      0.199     -7.398      0.000      -1.867      -1.084\n",
      "RAD            0.3060      0.066      4.613      0.000       0.176       0.436\n",
      "TAX           -0.0123      0.004     -3.280      0.001      -0.020      -0.005\n",
      "PTRATIO       -0.9527      0.131     -7.283      0.000      -1.210      -0.696\n",
      "B              0.0093      0.003      3.467      0.001       0.004       0.015\n",
      "LSTAT         -0.5248      0.051    -10.347      0.000      -0.624      -0.425\n",
      "==============================================================================\n",
      "Omnibus:                      178.041   Durbin-Watson:                   1.078\n",
      "Prob(Omnibus):                  0.000   Jarque-Bera (JB):              783.126\n",
      "Skew:                           1.521   Prob(JB):                    8.84e-171\n",
      "Kurtosis:                       8.281   Cond. No.                     1.51e+04\n",
      "==============================================================================\n",
      "\n",
      "Notes:\n",
      "[1] Standard Errors assume that the covariance matrix of the errors is correctly specified.\n",
      "[2] The condition number is large, 1.51e+04. This might indicate that there are\n",
      "strong multicollinearity or other numerical problems.\n"
     ]
    }
   ],
   "source": [
    "regression2 = sm.OLS(y,sm.add_constant(X)).fit()\n",
    "print(regression2.summary())"
   ]
  },
  {
   "cell_type": "markdown",
   "id": "b801edd3",
   "metadata": {
    "papermill": {
     "duration": 0.018464,
     "end_time": "2023-12-20T18:49:06.694803",
     "exception": false,
     "start_time": "2023-12-20T18:49:06.676339",
     "status": "completed"
    },
    "tags": []
   },
   "source": [
    "#### The R Squared this time is not so close to 1, but the F-stat and AIC/BIC are lower. We can also see in the coef column that the variables that have the most influence in the price predictions are the same ones highlighted in the last model."
   ]
  },
  {
   "cell_type": "code",
   "execution_count": 19,
   "id": "29f47fca",
   "metadata": {
    "execution": {
     "iopub.execute_input": "2023-12-20T18:49:06.735703Z",
     "iopub.status.busy": "2023-12-20T18:49:06.734750Z",
     "iopub.status.idle": "2023-12-20T18:49:06.745410Z",
     "shell.execute_reply": "2023-12-20T18:49:06.744202Z"
    },
    "papermill": {
     "duration": 0.03341,
     "end_time": "2023-12-20T18:49:06.747966",
     "exception": false,
     "start_time": "2023-12-20T18:49:06.714556",
     "status": "completed"
    },
    "tags": []
   },
   "outputs": [
    {
     "data": {
      "text/plain": [
       "0      -6.003843\n",
       "1      -3.425562\n",
       "2       4.132403\n",
       "3       4.792964\n",
       "4       8.256476\n",
       "         ...    \n",
       "501    -1.133341\n",
       "502    -1.775719\n",
       "503    -3.727426\n",
       "504    -4.127967\n",
       "505   -10.444212\n",
       "Length: 506, dtype: float64"
      ]
     },
     "execution_count": 19,
     "metadata": {},
     "output_type": "execute_result"
    }
   ],
   "source": [
    "residual2 = regression2.resid\n",
    "residual2"
   ]
  },
  {
   "cell_type": "code",
   "execution_count": 20,
   "id": "f544383c",
   "metadata": {
    "execution": {
     "iopub.execute_input": "2023-12-20T18:49:06.787733Z",
     "iopub.status.busy": "2023-12-20T18:49:06.787337Z",
     "iopub.status.idle": "2023-12-20T18:49:06.794516Z",
     "shell.execute_reply": "2023-12-20T18:49:06.793348Z"
    },
    "papermill": {
     "duration": 0.030346,
     "end_time": "2023-12-20T18:49:06.797192",
     "exception": false,
     "start_time": "2023-12-20T18:49:06.766846",
     "status": "completed"
    },
    "tags": []
   },
   "outputs": [
    {
     "data": {
      "text/plain": [
       "1.480177833053824e-17"
      ]
     },
     "execution_count": 20,
     "metadata": {},
     "output_type": "execute_result"
    }
   ],
   "source": [
    "estatistica, p = stats.shapiro(residual2)\n",
    "p"
   ]
  },
  {
   "cell_type": "code",
   "execution_count": 21,
   "id": "8487d0b9",
   "metadata": {
    "execution": {
     "iopub.execute_input": "2023-12-20T18:49:06.837048Z",
     "iopub.status.busy": "2023-12-20T18:49:06.836590Z",
     "iopub.status.idle": "2023-12-20T18:49:07.068861Z",
     "shell.execute_reply": "2023-12-20T18:49:07.067535Z"
    },
    "papermill": {
     "duration": 0.255524,
     "end_time": "2023-12-20T18:49:07.071711",
     "exception": false,
     "start_time": "2023-12-20T18:49:06.816187",
     "status": "completed"
    },
    "tags": []
   },
   "outputs": [
    {
     "data": {
      "image/png": "[encoded data removed]",
      "text/plain": [
       "<Figure size 640x480 with 1 Axes>"
      ]
     },
     "metadata": {},
     "output_type": "display_data"
    }
   ],
   "source": [
    "stats.probplot(residual2, dist='norm', plot=plt)\n",
    "plt.show()"
   ]
  },
  {
   "cell_type": "markdown",
   "id": "789a55c3",
   "metadata": {
    "papermill": {
     "duration": 0.019468,
     "end_time": "2023-12-20T18:49:07.111435",
     "exception": false,
     "start_time": "2023-12-20T18:49:07.091967",
     "status": "completed"
    },
    "tags": []
   },
   "source": [
    "#### But now we can see that this model is not so good and too far from being a normal distribution as well. We will now try a normalized scale to see what happens."
   ]
  },
  {
   "cell_type": "code",
   "execution_count": 22,
   "id": "570efaaa",
   "metadata": {
    "execution": {
     "iopub.execute_input": "2023-12-20T18:49:07.153809Z",
     "iopub.status.busy": "2023-12-20T18:49:07.153407Z",
     "iopub.status.idle": "2023-12-20T18:49:07.181232Z",
     "shell.execute_reply": "2023-12-20T18:49:07.179972Z"
    },
    "papermill": {
     "duration": 0.052435,
     "end_time": "2023-12-20T18:49:07.184121",
     "exception": false,
     "start_time": "2023-12-20T18:49:07.131686",
     "status": "completed"
    },
    "tags": []
   },
   "outputs": [
    {
     "data": {
      "text/html": [
       "<div>\n",
       "<style scoped>\n",
       "    .dataframe tbody tr th:only-of-type {\n",
       "        vertical-align: middle;\n",
       "    }\n",
       "\n",
       "    .dataframe tbody tr th {\n",
       "        vertical-align: top;\n",
       "    }\n",
       "\n",
       "    .dataframe thead th {\n",
       "        text-align: right;\n",
       "    }\n",
       "</style>\n",
       "<table border=\"1\" class=\"dataframe\">\n",
       "  <thead>\n",
       "    <tr style=\"text-align: right;\">\n",
       "      <th></th>\n",
       "      <th>CRIM</th>\n",
       "      <th>ZN</th>\n",
       "      <th>INDUS</th>\n",
       "      <th>CHAS</th>\n",
       "      <th>NOX</th>\n",
       "      <th>RM</th>\n",
       "      <th>AGE</th>\n",
       "      <th>DIS</th>\n",
       "      <th>RAD</th>\n",
       "      <th>TAX</th>\n",
       "      <th>PTRATIO</th>\n",
       "      <th>B</th>\n",
       "      <th>LSTAT</th>\n",
       "      <th>MEDV</th>\n",
       "    </tr>\n",
       "  </thead>\n",
       "  <tbody>\n",
       "    <tr>\n",
       "      <th>0</th>\n",
       "      <td>0.000013</td>\n",
       "      <td>0.035955</td>\n",
       "      <td>0.004614</td>\n",
       "      <td>0.0</td>\n",
       "      <td>0.001075</td>\n",
       "      <td>0.013134</td>\n",
       "      <td>0.130238</td>\n",
       "      <td>0.008170</td>\n",
       "      <td>0.001998</td>\n",
       "      <td>0.591265</td>\n",
       "      <td>0.030562</td>\n",
       "      <td>0.792814</td>\n",
       "      <td>0.009948</td>\n",
       "      <td>0.047940</td>\n",
       "    </tr>\n",
       "    <tr>\n",
       "      <th>1</th>\n",
       "      <td>0.000058</td>\n",
       "      <td>0.000000</td>\n",
       "      <td>0.014961</td>\n",
       "      <td>0.0</td>\n",
       "      <td>0.000992</td>\n",
       "      <td>0.013588</td>\n",
       "      <td>0.166966</td>\n",
       "      <td>0.010511</td>\n",
       "      <td>0.004232</td>\n",
       "      <td>0.512112</td>\n",
       "      <td>0.037668</td>\n",
       "      <td>0.839907</td>\n",
       "      <td>0.019342</td>\n",
       "      <td>0.045709</td>\n",
       "    </tr>\n",
       "    <tr>\n",
       "      <th>2</th>\n",
       "      <td>0.000058</td>\n",
       "      <td>0.000000</td>\n",
       "      <td>0.015133</td>\n",
       "      <td>0.0</td>\n",
       "      <td>0.001004</td>\n",
       "      <td>0.015379</td>\n",
       "      <td>0.130778</td>\n",
       "      <td>0.010632</td>\n",
       "      <td>0.004281</td>\n",
       "      <td>0.517974</td>\n",
       "      <td>0.038099</td>\n",
       "      <td>0.840809</td>\n",
       "      <td>0.008626</td>\n",
       "      <td>0.074272</td>\n",
       "    </tr>\n",
       "    <tr>\n",
       "      <th>3</th>\n",
       "      <td>0.000071</td>\n",
       "      <td>0.000000</td>\n",
       "      <td>0.004772</td>\n",
       "      <td>0.0</td>\n",
       "      <td>0.001003</td>\n",
       "      <td>0.015319</td>\n",
       "      <td>0.100257</td>\n",
       "      <td>0.013270</td>\n",
       "      <td>0.006567</td>\n",
       "      <td>0.485964</td>\n",
       "      <td>0.040935</td>\n",
       "      <td>0.863856</td>\n",
       "      <td>0.006436</td>\n",
       "      <td>0.073114</td>\n",
       "    </tr>\n",
       "    <tr>\n",
       "      <th>4</th>\n",
       "      <td>0.000150</td>\n",
       "      <td>0.000000</td>\n",
       "      <td>0.004740</td>\n",
       "      <td>0.0</td>\n",
       "      <td>0.000996</td>\n",
       "      <td>0.015539</td>\n",
       "      <td>0.117842</td>\n",
       "      <td>0.013181</td>\n",
       "      <td>0.006523</td>\n",
       "      <td>0.482675</td>\n",
       "      <td>0.040658</td>\n",
       "      <td>0.862945</td>\n",
       "      <td>0.011589</td>\n",
       "      <td>0.078707</td>\n",
       "    </tr>\n",
       "  </tbody>\n",
       "</table>\n",
       "</div>"
      ],
      "text/plain": [
       "       CRIM        ZN     INDUS  CHAS       NOX        RM       AGE       DIS  \\\n",
       "0  0.000013  0.035955  0.004614   0.0  0.001075  0.013134  0.130238  0.008170   \n",
       "1  0.000058  0.000000  0.014961   0.0  0.000992  0.013588  0.166966  0.010511   \n",
       "2  0.000058  0.000000  0.015133   0.0  0.001004  0.015379  0.130778  0.010632   \n",
       "3  0.000071  0.000000  0.004772   0.0  0.001003  0.015319  0.100257  0.013270   \n",
       "4  0.000150  0.000000  0.004740   0.0  0.000996  0.015539  0.117842  0.013181   \n",
       "\n",
       "        RAD       TAX   PTRATIO         B     LSTAT      MEDV  \n",
       "0  0.001998  0.591265  0.030562  0.792814  0.009948  0.047940  \n",
       "1  0.004232  0.512112  0.037668  0.839907  0.019342  0.045709  \n",
       "2  0.004281  0.517974  0.038099  0.840809  0.008626  0.074272  \n",
       "3  0.006567  0.485964  0.040935  0.863856  0.006436  0.073114  \n",
       "4  0.006523  0.482675  0.040658  0.862945  0.011589  0.078707  "
      ]
     },
     "execution_count": 22,
     "metadata": {},
     "output_type": "execute_result"
    }
   ],
   "source": [
    "from sklearn import preprocessing\n",
    "df = data.copy()\n",
    "d = preprocessing.normalize(df)\n",
    "scaled_df = pd.DataFrame(d, columns=df.columns)\n",
    "scaled_df.head()"
   ]
  },
  {
   "cell_type": "code",
   "execution_count": 23,
   "id": "882beb57",
   "metadata": {
    "execution": {
     "iopub.execute_input": "2023-12-20T18:49:07.227240Z",
     "iopub.status.busy": "2023-12-20T18:49:07.226810Z",
     "iopub.status.idle": "2023-12-20T18:49:07.233142Z",
     "shell.execute_reply": "2023-12-20T18:49:07.231919Z"
    },
    "papermill": {
     "duration": 0.031003,
     "end_time": "2023-12-20T18:49:07.235599",
     "exception": false,
     "start_time": "2023-12-20T18:49:07.204596",
     "status": "completed"
    },
    "tags": []
   },
   "outputs": [],
   "source": [
    "X_norm = scaled_df.drop('MEDV', axis=1)\n",
    "y_norm = scaled_df['MEDV']"
   ]
  },
  {
   "cell_type": "code",
   "execution_count": 24,
   "id": "69613041",
   "metadata": {
    "execution": {
     "iopub.execute_input": "2023-12-20T18:49:07.277386Z",
     "iopub.status.busy": "2023-12-20T18:49:07.276966Z",
     "iopub.status.idle": "2023-12-20T18:49:07.304298Z",
     "shell.execute_reply": "2023-12-20T18:49:07.303083Z"
    },
    "papermill": {
     "duration": 0.051648,
     "end_time": "2023-12-20T18:49:07.307117",
     "exception": false,
     "start_time": "2023-12-20T18:49:07.255469",
     "status": "completed"
    },
    "tags": []
   },
   "outputs": [
    {
     "name": "stdout",
     "output_type": "stream",
     "text": [
      "                                 OLS Regression Results                                \n",
      "=======================================================================================\n",
      "Dep. Variable:                   MEDV   R-squared (uncentered):                   0.972\n",
      "Model:                            OLS   Adj. R-squared (uncentered):              0.971\n",
      "Method:                 Least Squares   F-statistic:                              1324.\n",
      "Date:                Wed, 20 Dec 2023   Prob (F-statistic):                        0.00\n",
      "Time:                        18:49:07   Log-Likelihood:                          1734.9\n",
      "No. Observations:                 506   AIC:                                     -3444.\n",
      "Df Residuals:                     493   BIC:                                     -3389.\n",
      "Df Model:                          13                                                  \n",
      "Covariance Type:            nonrobust                                                  \n",
      "==============================================================================\n",
      "                 coef    std err          t      P>|t|      [0.025      0.975]\n",
      "------------------------------------------------------------------------------\n",
      "CRIM          -0.0849      0.040     -2.130      0.034      -0.163      -0.007\n",
      "ZN             0.0326      0.012      2.834      0.005       0.010       0.055\n",
      "INDUS          0.0012      0.051      0.024      0.981      -0.099       0.102\n",
      "CHAS           1.8495      0.758      2.439      0.015       0.360       3.339\n",
      "NOX           -5.2241      2.934     -1.780      0.076     -10.989       0.541\n",
      "RM             6.9033      0.275     25.128      0.000       6.364       7.443\n",
      "AGE           -0.0236      0.011     -2.088      0.037      -0.046      -0.001\n",
      "DIS           -1.0137      0.158     -6.401      0.000      -1.325      -0.703\n",
      "RAD            0.2278      0.064      3.560      0.000       0.102       0.354\n",
      "TAX           -0.0120      0.003     -3.540      0.000      -0.019      -0.005\n",
      "PTRATIO       -0.6274      0.091     -6.906      0.000      -0.806      -0.449\n",
      "B              0.0149      0.003      5.540      0.000       0.010       0.020\n",
      "LSTAT         -0.2943      0.046     -6.334      0.000      -0.386      -0.203\n",
      "==============================================================================\n",
      "Omnibus:                      158.917   Durbin-Watson:                   1.037\n",
      "Prob(Omnibus):                  0.000   Jarque-Bera (JB):              609.454\n",
      "Skew:                           1.391   Prob(JB):                    4.56e-133\n",
      "Kurtosis:                       7.601   Cond. No.                     8.01e+03\n",
      "==============================================================================\n",
      "\n",
      "Notes:\n",
      "[1] R² is computed without centering (uncentered) since the model does not contain a constant.\n",
      "[2] Standard Errors assume that the covariance matrix of the errors is correctly specified.\n",
      "[3] The condition number is large, 8.01e+03. This might indicate that there are\n",
      "strong multicollinearity or other numerical problems.\n"
     ]
    }
   ],
   "source": [
    "regression3 = sm.OLS(y_norm, X_norm).fit()\n",
    "print(regression3.summary())"
   ]
  },
  {
   "cell_type": "markdown",
   "id": "440055d8",
   "metadata": {
    "papermill": {
     "duration": 0.01987,
     "end_time": "2023-12-20T18:49:07.347129",
     "exception": false,
     "start_time": "2023-12-20T18:49:07.327259",
     "status": "completed"
    },
    "tags": []
   },
   "source": [
    "#### This model is even worse than the intercept one. The variables of influence are mainly the same. Even with this model being the worst one, we will keep going with it to study more with Statsmodels, as well as to see how a bad model can perform with this predictions."
   ]
  },
  {
   "cell_type": "code",
   "execution_count": 25,
   "id": "ab5d17f6",
   "metadata": {
    "execution": {
     "iopub.execute_input": "2023-12-20T18:49:07.389983Z",
     "iopub.status.busy": "2023-12-20T18:49:07.388829Z",
     "iopub.status.idle": "2023-12-20T18:49:07.399550Z",
     "shell.execute_reply": "2023-12-20T18:49:07.397895Z"
    },
    "papermill": {
     "duration": 0.036236,
     "end_time": "2023-12-20T18:49:07.403754",
     "exception": false,
     "start_time": "2023-12-20T18:49:07.367518",
     "status": "completed"
    },
    "tags": []
   },
   "outputs": [
    {
     "data": {
      "text/plain": [
       "0     -0.010052\n",
       "1     -0.006384\n",
       "2      0.006307\n",
       "3      0.007411\n",
       "4      0.013105\n",
       "         ...   \n",
       "501   -0.005747\n",
       "502   -0.003229\n",
       "503   -0.010140\n",
       "504   -0.010526\n",
       "505   -0.019811\n",
       "Length: 506, dtype: float64"
      ]
     },
     "execution_count": 25,
     "metadata": {},
     "output_type": "execute_result"
    }
   ],
   "source": [
    "residual3 = regression3.resid\n",
    "residual3"
   ]
  },
  {
   "cell_type": "code",
   "execution_count": 26,
   "id": "52a63c89",
   "metadata": {
    "execution": {
     "iopub.execute_input": "2023-12-20T18:49:07.446870Z",
     "iopub.status.busy": "2023-12-20T18:49:07.445627Z",
     "iopub.status.idle": "2023-12-20T18:49:07.453554Z",
     "shell.execute_reply": "2023-12-20T18:49:07.452319Z"
    },
    "papermill": {
     "duration": 0.031979,
     "end_time": "2023-12-20T18:49:07.456081",
     "exception": false,
     "start_time": "2023-12-20T18:49:07.424102",
     "status": "completed"
    },
    "tags": []
   },
   "outputs": [
    {
     "data": {
      "text/plain": [
       "7.455026812871736e-17"
      ]
     },
     "execution_count": 26,
     "metadata": {},
     "output_type": "execute_result"
    }
   ],
   "source": [
    "estatistica, p = stats.shapiro(residual3)\n",
    "p"
   ]
  },
  {
   "cell_type": "code",
   "execution_count": 27,
   "id": "68decfec",
   "metadata": {
    "execution": {
     "iopub.execute_input": "2023-12-20T18:49:07.499003Z",
     "iopub.status.busy": "2023-12-20T18:49:07.498578Z",
     "iopub.status.idle": "2023-12-20T18:49:07.761084Z",
     "shell.execute_reply": "2023-12-20T18:49:07.759579Z"
    },
    "papermill": {
     "duration": 0.287552,
     "end_time": "2023-12-20T18:49:07.764078",
     "exception": false,
     "start_time": "2023-12-20T18:49:07.476526",
     "status": "completed"
    },
    "tags": []
   },
   "outputs": [
    {
     "data": {
      "image/png": "[encoded data removed]",
      "text/plain": [
       "<Figure size 640x480 with 1 Axes>"
      ]
     },
     "metadata": {},
     "output_type": "display_data"
    }
   ],
   "source": [
    "stats.probplot(residual3, dist='norm', plot=plt)\n",
    "plt.show()"
   ]
  },
  {
   "cell_type": "code",
   "execution_count": 28,
   "id": "befad942",
   "metadata": {
    "execution": {
     "iopub.execute_input": "2023-12-20T18:49:07.807695Z",
     "iopub.status.busy": "2023-12-20T18:49:07.807261Z",
     "iopub.status.idle": "2023-12-20T18:49:07.834464Z",
     "shell.execute_reply": "2023-12-20T18:49:07.832879Z"
    },
    "papermill": {
     "duration": 0.052093,
     "end_time": "2023-12-20T18:49:07.837140",
     "exception": false,
     "start_time": "2023-12-20T18:49:07.785047",
     "status": "completed"
    },
    "tags": []
   },
   "outputs": [
    {
     "data": {
      "text/html": [
       "<div>\n",
       "<style scoped>\n",
       "    .dataframe tbody tr th:only-of-type {\n",
       "        vertical-align: middle;\n",
       "    }\n",
       "\n",
       "    .dataframe tbody tr th {\n",
       "        vertical-align: top;\n",
       "    }\n",
       "\n",
       "    .dataframe thead th {\n",
       "        text-align: right;\n",
       "    }\n",
       "</style>\n",
       "<table border=\"1\" class=\"dataframe\">\n",
       "  <thead>\n",
       "    <tr style=\"text-align: right;\">\n",
       "      <th></th>\n",
       "      <th>CRIM</th>\n",
       "      <th>ZN</th>\n",
       "      <th>INDUS</th>\n",
       "      <th>CHAS</th>\n",
       "      <th>NOX</th>\n",
       "      <th>RM</th>\n",
       "      <th>AGE</th>\n",
       "      <th>DIS</th>\n",
       "      <th>RAD</th>\n",
       "      <th>TAX</th>\n",
       "      <th>PTRATIO</th>\n",
       "      <th>B</th>\n",
       "      <th>LSTAT</th>\n",
       "    </tr>\n",
       "  </thead>\n",
       "  <tbody>\n",
       "    <tr>\n",
       "      <th>CRIM</th>\n",
       "      <td>1.000000</td>\n",
       "      <td>-0.205217</td>\n",
       "      <td>0.245886</td>\n",
       "      <td>-0.063494</td>\n",
       "      <td>-0.080784</td>\n",
       "      <td>-0.493759</td>\n",
       "      <td>0.087648</td>\n",
       "      <td>-0.418596</td>\n",
       "      <td>0.614210</td>\n",
       "      <td>0.549562</td>\n",
       "      <td>-0.375030</td>\n",
       "      <td>-0.590271</td>\n",
       "      <td>0.251829</td>\n",
       "    </tr>\n",
       "    <tr>\n",
       "      <th>ZN</th>\n",
       "      <td>-0.205217</td>\n",
       "      <td>1.000000</td>\n",
       "      <td>-0.521216</td>\n",
       "      <td>-0.019292</td>\n",
       "      <td>-0.297702</td>\n",
       "      <td>0.385258</td>\n",
       "      <td>-0.481557</td>\n",
       "      <td>0.643707</td>\n",
       "      <td>-0.313493</td>\n",
       "      <td>-0.329060</td>\n",
       "      <td>0.030620</td>\n",
       "      <td>0.296792</td>\n",
       "      <td>-0.374552</td>\n",
       "    </tr>\n",
       "    <tr>\n",
       "      <th>INDUS</th>\n",
       "      <td>0.245886</td>\n",
       "      <td>-0.521216</td>\n",
       "      <td>1.000000</td>\n",
       "      <td>0.081398</td>\n",
       "      <td>0.415608</td>\n",
       "      <td>-0.449485</td>\n",
       "      <td>0.447608</td>\n",
       "      <td>-0.627394</td>\n",
       "      <td>0.282100</td>\n",
       "      <td>0.458148</td>\n",
       "      <td>-0.195065</td>\n",
       "      <td>-0.446802</td>\n",
       "      <td>0.480453</td>\n",
       "    </tr>\n",
       "    <tr>\n",
       "      <th>CHAS</th>\n",
       "      <td>-0.063494</td>\n",
       "      <td>-0.019292</td>\n",
       "      <td>0.081398</td>\n",
       "      <td>1.000000</td>\n",
       "      <td>0.146826</td>\n",
       "      <td>0.102897</td>\n",
       "      <td>0.114986</td>\n",
       "      <td>-0.052137</td>\n",
       "      <td>-0.039650</td>\n",
       "      <td>-0.075738</td>\n",
       "      <td>-0.017185</td>\n",
       "      <td>0.069623</td>\n",
       "      <td>-0.002320</td>\n",
       "    </tr>\n",
       "    <tr>\n",
       "      <th>NOX</th>\n",
       "      <td>-0.080784</td>\n",
       "      <td>-0.297702</td>\n",
       "      <td>0.415608</td>\n",
       "      <td>0.146826</td>\n",
       "      <td>1.000000</td>\n",
       "      <td>0.244445</td>\n",
       "      <td>0.600458</td>\n",
       "      <td>-0.260137</td>\n",
       "      <td>-0.210888</td>\n",
       "      <td>-0.117253</td>\n",
       "      <td>0.204856</td>\n",
       "      <td>0.038665</td>\n",
       "      <td>0.368345</td>\n",
       "    </tr>\n",
       "    <tr>\n",
       "      <th>RM</th>\n",
       "      <td>-0.493759</td>\n",
       "      <td>0.385258</td>\n",
       "      <td>-0.449485</td>\n",
       "      <td>0.102897</td>\n",
       "      <td>0.244445</td>\n",
       "      <td>1.000000</td>\n",
       "      <td>-0.040462</td>\n",
       "      <td>0.579425</td>\n",
       "      <td>-0.700785</td>\n",
       "      <td>-0.798786</td>\n",
       "      <td>0.585528</td>\n",
       "      <td>0.678439</td>\n",
       "      <td>-0.380897</td>\n",
       "    </tr>\n",
       "    <tr>\n",
       "      <th>AGE</th>\n",
       "      <td>0.087648</td>\n",
       "      <td>-0.481557</td>\n",
       "      <td>0.447608</td>\n",
       "      <td>0.114986</td>\n",
       "      <td>0.600458</td>\n",
       "      <td>-0.040462</td>\n",
       "      <td>1.000000</td>\n",
       "      <td>-0.493855</td>\n",
       "      <td>0.026088</td>\n",
       "      <td>0.081326</td>\n",
       "      <td>0.048708</td>\n",
       "      <td>-0.130955</td>\n",
       "      <td>0.497819</td>\n",
       "    </tr>\n",
       "    <tr>\n",
       "      <th>DIS</th>\n",
       "      <td>-0.418596</td>\n",
       "      <td>0.643707</td>\n",
       "      <td>-0.627394</td>\n",
       "      <td>-0.052137</td>\n",
       "      <td>-0.260137</td>\n",
       "      <td>0.579425</td>\n",
       "      <td>-0.493855</td>\n",
       "      <td>1.000000</td>\n",
       "      <td>-0.561682</td>\n",
       "      <td>-0.616830</td>\n",
       "      <td>0.488374</td>\n",
       "      <td>0.578298</td>\n",
       "      <td>-0.325394</td>\n",
       "    </tr>\n",
       "    <tr>\n",
       "      <th>RAD</th>\n",
       "      <td>0.614210</td>\n",
       "      <td>-0.313493</td>\n",
       "      <td>0.282100</td>\n",
       "      <td>-0.039650</td>\n",
       "      <td>-0.210888</td>\n",
       "      <td>-0.700785</td>\n",
       "      <td>0.026088</td>\n",
       "      <td>-0.561682</td>\n",
       "      <td>1.000000</td>\n",
       "      <td>0.802895</td>\n",
       "      <td>-0.579262</td>\n",
       "      <td>-0.812752</td>\n",
       "      <td>0.168457</td>\n",
       "    </tr>\n",
       "    <tr>\n",
       "      <th>TAX</th>\n",
       "      <td>0.549562</td>\n",
       "      <td>-0.329060</td>\n",
       "      <td>0.458148</td>\n",
       "      <td>-0.075738</td>\n",
       "      <td>-0.117253</td>\n",
       "      <td>-0.798786</td>\n",
       "      <td>0.081326</td>\n",
       "      <td>-0.616830</td>\n",
       "      <td>0.802895</td>\n",
       "      <td>1.000000</td>\n",
       "      <td>-0.649951</td>\n",
       "      <td>-0.939461</td>\n",
       "      <td>0.258608</td>\n",
       "    </tr>\n",
       "    <tr>\n",
       "      <th>PTRATIO</th>\n",
       "      <td>-0.375030</td>\n",
       "      <td>0.030620</td>\n",
       "      <td>-0.195065</td>\n",
       "      <td>-0.017185</td>\n",
       "      <td>0.204856</td>\n",
       "      <td>0.585528</td>\n",
       "      <td>0.048708</td>\n",
       "      <td>0.488374</td>\n",
       "      <td>-0.579262</td>\n",
       "      <td>-0.649951</td>\n",
       "      <td>1.000000</td>\n",
       "      <td>0.534471</td>\n",
       "      <td>0.046084</td>\n",
       "    </tr>\n",
       "    <tr>\n",
       "      <th>B</th>\n",
       "      <td>-0.590271</td>\n",
       "      <td>0.296792</td>\n",
       "      <td>-0.446802</td>\n",
       "      <td>0.069623</td>\n",
       "      <td>0.038665</td>\n",
       "      <td>0.678439</td>\n",
       "      <td>-0.130955</td>\n",
       "      <td>0.578298</td>\n",
       "      <td>-0.812752</td>\n",
       "      <td>-0.939461</td>\n",
       "      <td>0.534471</td>\n",
       "      <td>1.000000</td>\n",
       "      <td>-0.295629</td>\n",
       "    </tr>\n",
       "    <tr>\n",
       "      <th>LSTAT</th>\n",
       "      <td>0.251829</td>\n",
       "      <td>-0.374552</td>\n",
       "      <td>0.480453</td>\n",
       "      <td>-0.002320</td>\n",
       "      <td>0.368345</td>\n",
       "      <td>-0.380897</td>\n",
       "      <td>0.497819</td>\n",
       "      <td>-0.325394</td>\n",
       "      <td>0.168457</td>\n",
       "      <td>0.258608</td>\n",
       "      <td>0.046084</td>\n",
       "      <td>-0.295629</td>\n",
       "      <td>1.000000</td>\n",
       "    </tr>\n",
       "  </tbody>\n",
       "</table>\n",
       "</div>"
      ],
      "text/plain": [
       "             CRIM        ZN     INDUS      CHAS       NOX        RM       AGE  \\\n",
       "CRIM     1.000000 -0.205217  0.245886 -0.063494 -0.080784 -0.493759  0.087648   \n",
       "ZN      -0.205217  1.000000 -0.521216 -0.019292 -0.297702  0.385258 -0.481557   \n",
       "INDUS    0.245886 -0.521216  1.000000  0.081398  0.415608 -0.449485  0.447608   \n",
       "CHAS    -0.063494 -0.019292  0.081398  1.000000  0.146826  0.102897  0.114986   \n",
       "NOX     -0.080784 -0.297702  0.415608  0.146826  1.000000  0.244445  0.600458   \n",
       "RM      -0.493759  0.385258 -0.449485  0.102897  0.244445  1.000000 -0.040462   \n",
       "AGE      0.087648 -0.481557  0.447608  0.114986  0.600458 -0.040462  1.000000   \n",
       "DIS     -0.418596  0.643707 -0.627394 -0.052137 -0.260137  0.579425 -0.493855   \n",
       "RAD      0.614210 -0.313493  0.282100 -0.039650 -0.210888 -0.700785  0.026088   \n",
       "TAX      0.549562 -0.329060  0.458148 -0.075738 -0.117253 -0.798786  0.081326   \n",
       "PTRATIO -0.375030  0.030620 -0.195065 -0.017185  0.204856  0.585528  0.048708   \n",
       "B       -0.590271  0.296792 -0.446802  0.069623  0.038665  0.678439 -0.130955   \n",
       "LSTAT    0.251829 -0.374552  0.480453 -0.002320  0.368345 -0.380897  0.497819   \n",
       "\n",
       "              DIS       RAD       TAX   PTRATIO         B     LSTAT  \n",
       "CRIM    -0.418596  0.614210  0.549562 -0.375030 -0.590271  0.251829  \n",
       "ZN       0.643707 -0.313493 -0.329060  0.030620  0.296792 -0.374552  \n",
       "INDUS   -0.627394  0.282100  0.458148 -0.195065 -0.446802  0.480453  \n",
       "CHAS    -0.052137 -0.039650 -0.075738 -0.017185  0.069623 -0.002320  \n",
       "NOX     -0.260137 -0.210888 -0.117253  0.204856  0.038665  0.368345  \n",
       "RM       0.579425 -0.700785 -0.798786  0.585528  0.678439 -0.380897  \n",
       "AGE     -0.493855  0.026088  0.081326  0.048708 -0.130955  0.497819  \n",
       "DIS      1.000000 -0.561682 -0.616830  0.488374  0.578298 -0.325394  \n",
       "RAD     -0.561682  1.000000  0.802895 -0.579262 -0.812752  0.168457  \n",
       "TAX     -0.616830  0.802895  1.000000 -0.649951 -0.939461  0.258608  \n",
       "PTRATIO  0.488374 -0.579262 -0.649951  1.000000  0.534471  0.046084  \n",
       "B        0.578298 -0.812752 -0.939461  0.534471  1.000000 -0.295629  \n",
       "LSTAT   -0.325394  0.168457  0.258608  0.046084 -0.295629  1.000000  "
      ]
     },
     "execution_count": 28,
     "metadata": {},
     "output_type": "execute_result"
    }
   ],
   "source": [
    "correlacoes = X_norm.corr(method='pearson')\n",
    "correlacoes"
   ]
  },
  {
   "cell_type": "code",
   "execution_count": 29,
   "id": "0ad27693",
   "metadata": {
    "execution": {
     "iopub.execute_input": "2023-12-20T18:49:07.882464Z",
     "iopub.status.busy": "2023-12-20T18:49:07.882066Z",
     "iopub.status.idle": "2023-12-20T18:49:07.919639Z",
     "shell.execute_reply": "2023-12-20T18:49:07.918378Z"
    },
    "papermill": {
     "duration": 0.063529,
     "end_time": "2023-12-20T18:49:07.922227",
     "exception": false,
     "start_time": "2023-12-20T18:49:07.858698",
     "status": "completed"
    },
    "tags": []
   },
   "outputs": [
    {
     "data": {
      "text/plain": [
       "const      1772.170361\n",
       "CRIM          1.761219\n",
       "ZN            2.421415\n",
       "INDUS         2.409242\n",
       "CHAS          1.064850\n",
       "NOX           2.473551\n",
       "RM            5.839438\n",
       "AGE           2.390096\n",
       "DIS           4.207643\n",
       "RAD           4.463762\n",
       "TAX          19.007927\n",
       "PTRATIO       2.806367\n",
       "B            15.003754\n",
       "LSTAT         2.276485\n",
       "dtype: float64"
      ]
     },
     "execution_count": 29,
     "metadata": {},
     "output_type": "execute_result"
    }
   ],
   "source": [
    "from statsmodels.stats.outliers_influence import variance_inflation_factor\n",
    "from statsmodels.tools.tools import add_constant\n",
    "\n",
    "vif = add_constant(X_norm) \n",
    "pd.Series([variance_inflation_factor(vif.values, i) for i in range(vif.shape[1])], index=vif.columns)"
   ]
  },
  {
   "cell_type": "code",
   "execution_count": 30,
   "id": "ae5566fc",
   "metadata": {
    "execution": {
     "iopub.execute_input": "2023-12-20T18:49:07.969205Z",
     "iopub.status.busy": "2023-12-20T18:49:07.967989Z",
     "iopub.status.idle": "2023-12-20T18:49:07.992907Z",
     "shell.execute_reply": "2023-12-20T18:49:07.991700Z"
    },
    "papermill": {
     "duration": 0.051601,
     "end_time": "2023-12-20T18:49:07.995539",
     "exception": false,
     "start_time": "2023-12-20T18:49:07.943938",
     "status": "completed"
    },
    "tags": []
   },
   "outputs": [
    {
     "data": {
      "text/html": [
       "<div>\n",
       "<style scoped>\n",
       "    .dataframe tbody tr th:only-of-type {\n",
       "        vertical-align: middle;\n",
       "    }\n",
       "\n",
       "    .dataframe tbody tr th {\n",
       "        vertical-align: top;\n",
       "    }\n",
       "\n",
       "    .dataframe thead th {\n",
       "        text-align: right;\n",
       "    }\n",
       "</style>\n",
       "<table border=\"1\" class=\"dataframe\">\n",
       "  <thead>\n",
       "    <tr style=\"text-align: right;\">\n",
       "      <th></th>\n",
       "      <th>CRIM</th>\n",
       "      <th>ZN</th>\n",
       "      <th>INDUS</th>\n",
       "      <th>CHAS</th>\n",
       "      <th>NOX</th>\n",
       "      <th>RM</th>\n",
       "      <th>AGE</th>\n",
       "      <th>DIS</th>\n",
       "      <th>RAD</th>\n",
       "      <th>TAX</th>\n",
       "      <th>PTRATIO</th>\n",
       "      <th>B</th>\n",
       "      <th>LSTAT</th>\n",
       "      <th>MEDV</th>\n",
       "      <th>predicted</th>\n",
       "    </tr>\n",
       "  </thead>\n",
       "  <tbody>\n",
       "    <tr>\n",
       "      <th>0</th>\n",
       "      <td>0.000013</td>\n",
       "      <td>0.035955</td>\n",
       "      <td>0.004614</td>\n",
       "      <td>0.0</td>\n",
       "      <td>0.001075</td>\n",
       "      <td>0.013134</td>\n",
       "      <td>0.130238</td>\n",
       "      <td>0.008170</td>\n",
       "      <td>0.001998</td>\n",
       "      <td>0.591265</td>\n",
       "      <td>0.030562</td>\n",
       "      <td>0.792814</td>\n",
       "      <td>0.009948</td>\n",
       "      <td>0.047940</td>\n",
       "      <td>0.057992</td>\n",
       "    </tr>\n",
       "    <tr>\n",
       "      <th>1</th>\n",
       "      <td>0.000058</td>\n",
       "      <td>0.000000</td>\n",
       "      <td>0.014961</td>\n",
       "      <td>0.0</td>\n",
       "      <td>0.000992</td>\n",
       "      <td>0.013588</td>\n",
       "      <td>0.166966</td>\n",
       "      <td>0.010511</td>\n",
       "      <td>0.004232</td>\n",
       "      <td>0.512112</td>\n",
       "      <td>0.037668</td>\n",
       "      <td>0.839907</td>\n",
       "      <td>0.019342</td>\n",
       "      <td>0.045709</td>\n",
       "      <td>0.052094</td>\n",
       "    </tr>\n",
       "    <tr>\n",
       "      <th>2</th>\n",
       "      <td>0.000058</td>\n",
       "      <td>0.000000</td>\n",
       "      <td>0.015133</td>\n",
       "      <td>0.0</td>\n",
       "      <td>0.001004</td>\n",
       "      <td>0.015379</td>\n",
       "      <td>0.130778</td>\n",
       "      <td>0.010632</td>\n",
       "      <td>0.004281</td>\n",
       "      <td>0.517974</td>\n",
       "      <td>0.038099</td>\n",
       "      <td>0.840809</td>\n",
       "      <td>0.008626</td>\n",
       "      <td>0.074272</td>\n",
       "      <td>0.067964</td>\n",
       "    </tr>\n",
       "    <tr>\n",
       "      <th>3</th>\n",
       "      <td>0.000071</td>\n",
       "      <td>0.000000</td>\n",
       "      <td>0.004772</td>\n",
       "      <td>0.0</td>\n",
       "      <td>0.001003</td>\n",
       "      <td>0.015319</td>\n",
       "      <td>0.100257</td>\n",
       "      <td>0.013270</td>\n",
       "      <td>0.006567</td>\n",
       "      <td>0.485964</td>\n",
       "      <td>0.040935</td>\n",
       "      <td>0.863856</td>\n",
       "      <td>0.006436</td>\n",
       "      <td>0.073114</td>\n",
       "      <td>0.065702</td>\n",
       "    </tr>\n",
       "    <tr>\n",
       "      <th>4</th>\n",
       "      <td>0.000150</td>\n",
       "      <td>0.000000</td>\n",
       "      <td>0.004740</td>\n",
       "      <td>0.0</td>\n",
       "      <td>0.000996</td>\n",
       "      <td>0.015539</td>\n",
       "      <td>0.117842</td>\n",
       "      <td>0.013181</td>\n",
       "      <td>0.006523</td>\n",
       "      <td>0.482675</td>\n",
       "      <td>0.040658</td>\n",
       "      <td>0.862945</td>\n",
       "      <td>0.011589</td>\n",
       "      <td>0.078707</td>\n",
       "      <td>0.065601</td>\n",
       "    </tr>\n",
       "  </tbody>\n",
       "</table>\n",
       "</div>"
      ],
      "text/plain": [
       "       CRIM        ZN     INDUS  CHAS       NOX        RM       AGE       DIS  \\\n",
       "0  0.000013  0.035955  0.004614   0.0  0.001075  0.013134  0.130238  0.008170   \n",
       "1  0.000058  0.000000  0.014961   0.0  0.000992  0.013588  0.166966  0.010511   \n",
       "2  0.000058  0.000000  0.015133   0.0  0.001004  0.015379  0.130778  0.010632   \n",
       "3  0.000071  0.000000  0.004772   0.0  0.001003  0.015319  0.100257  0.013270   \n",
       "4  0.000150  0.000000  0.004740   0.0  0.000996  0.015539  0.117842  0.013181   \n",
       "\n",
       "        RAD       TAX   PTRATIO         B     LSTAT      MEDV  predicted  \n",
       "0  0.001998  0.591265  0.030562  0.792814  0.009948  0.047940   0.057992  \n",
       "1  0.004232  0.512112  0.037668  0.839907  0.019342  0.045709   0.052094  \n",
       "2  0.004281  0.517974  0.038099  0.840809  0.008626  0.074272   0.067964  \n",
       "3  0.006567  0.485964  0.040935  0.863856  0.006436  0.073114   0.065702  \n",
       "4  0.006523  0.482675  0.040658  0.862945  0.011589  0.078707   0.065601  "
      ]
     },
     "execution_count": 30,
     "metadata": {},
     "output_type": "execute_result"
    }
   ],
   "source": [
    "scaled_df['predicted'] = regression3.fittedvalues\n",
    "scaled_df.head()"
   ]
  },
  {
   "cell_type": "markdown",
   "id": "a18e799b",
   "metadata": {
    "papermill": {
     "duration": 0.022183,
     "end_time": "2023-12-20T18:49:08.039712",
     "exception": false,
     "start_time": "2023-12-20T18:49:08.017529",
     "status": "completed"
    },
    "tags": []
   },
   "source": [
    "#### The predicted values are all over the place, some are higher and others are lower, and that is very different than the Scikit model. I didn't use the best scaling and normalization for the statsmodels part, so I would like to know if there are better options to do this model"
   ]
  }
 ],
 "metadata": {
  "kaggle": {
   "accelerator": "none",
   "dataSources": [
    {
     "datasetId": 1381830,
     "sourceId": 2292500,
     "sourceType": "datasetVersion"
    }
   ],
   "dockerImageVersionId": 30626,
   "isGpuEnabled": false,
   "isInternetEnabled": true,
   "language": "python",
   "sourceType": "notebook"
  },
  "kernelspec": {
   "display_name": "Python 3",
   "language": "python",
   "name": "python3"
  },
  "language_info": {
   "codemirror_mode": {
    "name": "ipython",
    "version": 3
   },
   "file_extension": ".py",
   "mimetype": "text/x-python",
   "name": "python",
   "nbconvert_exporter": "python",
   "pygments_lexer": "ipython3",
   "version": "3.10.12"
  },
  "papermill": {
   "default_parameters": {},
   "duration": 15.146542,
   "end_time": "2023-12-20T18:49:08.783555",
   "environment_variables": {},
   "exception": null,
   "input_path": "__notebook__.ipynb",
   "output_path": "__notebook__.ipynb",
   "parameters": {},
   "start_time": "2023-12-20T18:48:53.637013",
   "version": "2.4.0"
  }
 },
 "nbformat": 4,
 "nbformat_minor": 5
}
